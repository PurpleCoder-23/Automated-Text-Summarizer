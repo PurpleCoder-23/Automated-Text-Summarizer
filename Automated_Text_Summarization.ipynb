{
  "nbformat": 4,
  "nbformat_minor": 0,
  "metadata": {
    "colab": {
      "provenance": [],
      "gpuType": "T4",
      "authorship_tag": "ABX9TyMlXGiaMm/u+T3JkMMK4BuC",
      "include_colab_link": true
    },
    "kernelspec": {
      "name": "python3",
      "display_name": "Python 3"
    },
    "language_info": {
      "name": "python"
    },
    "accelerator": "GPU"
  },
  "cells": [
    {
      "cell_type": "markdown",
      "metadata": {
        "id": "view-in-github",
        "colab_type": "text"
      },
      "source": [
        "<a href=\"https://colab.research.google.com/github/PurpleCoder-23/Automated-Text-Summarizer/blob/main/Automated_Text_Summarization.ipynb\" target=\"_parent\"><img src=\"https://colab.research.google.com/assets/colab-badge.svg\" alt=\"Open In Colab\"/></a>"
      ]
    },
    {
      "cell_type": "markdown",
      "source": [
        "**Extracting Text summarization**"
      ],
      "metadata": {
        "id": "iOVCydoc5j4B"
      }
    },
    {
      "cell_type": "markdown",
      "source": [
        "models takes imporant chunks of text directly from original text"
      ],
      "metadata": {
        "id": "esA4xRvl52vC"
      }
    },
    {
      "cell_type": "code",
      "source": [
        "text=\"\"\"To Sherlock Holmes she is always the woman. I have seldom heard him\n",
        "     mention her under any other name. In his eyes she eclipses and\n",
        "     predominates the whole of her sex. It was not that he felt any\n",
        "     emotion akin to love for Irene Adler. All emotions, and that one\n",
        "     particularly, were abhorrent to his cold, precise but admirably\n",
        "     balanced mind. He was, I take it, the most perfect reasoning and\n",
        "     observing machine that the world has seen, but as a lover he would\n",
        "     have placed himself in a false position. He never spoke of the softer\n",
        "     passions, save with a gibe and a sneer. They were admirable things\n",
        "     for the observer--excellent for drawing the veil from men's motives\n",
        "     and actions. But for the trained reasoner to admit such intrusions\n",
        "     into his own delicate and finely adjusted temperament was to\n",
        "     introduce a distracting factor which might throw a doubt upon all his\n",
        "     mental results. Grit in a sensitive instrument, or a crack in one of\n",
        "     his own high-power lenses, would not be more disturbing than a strong\n",
        "     emotion in a nature such as his. And yet there was but one woman to\n",
        "     him, and that woman was the late Irene Adler, of dubious and\n",
        "     questionable memory.\"\"\""
      ],
      "metadata": {
        "id": "J9dt0Mrd5xjb"
      },
      "execution_count": 2,
      "outputs": []
    },
    {
      "cell_type": "code",
      "source": [
        "len(text)"
      ],
      "metadata": {
        "colab": {
          "base_uri": "https://localhost:8080/"
        },
        "id": "pOzvngw966de",
        "outputId": "f347a4da-7ac3-4000-b9e2-5de9e98172f7"
      },
      "execution_count": 3,
      "outputs": [
        {
          "output_type": "execute_result",
          "data": {
            "text/plain": [
              "1231"
            ]
          },
          "metadata": {},
          "execution_count": 3
        }
      ]
    },
    {
      "cell_type": "code",
      "source": [
        "import spacy\n",
        "from spacy.lang.en.stop_words import STOP_WORDS"
      ],
      "metadata": {
        "id": "WbUDvTev7qke"
      },
      "execution_count": 5,
      "outputs": []
    },
    {
      "cell_type": "code",
      "source": [
        "from string import punctuation\n",
        "\n",
        "nlp=spacy.load(\"en_core_web_sm\")"
      ],
      "metadata": {
        "id": "wFHD8vbY7tih"
      },
      "execution_count": 7,
      "outputs": []
    },
    {
      "cell_type": "code",
      "source": [
        "doc=nlp(text)"
      ],
      "metadata": {
        "id": "HePgGTc07_3G"
      },
      "execution_count": 8,
      "outputs": []
    },
    {
      "cell_type": "code",
      "source": [
        "tokens=[token.text.lower().strip() for token in doc\n",
        "        if not token.is_stop and not token.is_punct\n",
        "        and token.text.strip()]"
      ],
      "metadata": {
        "id": "lthSO-vd8Hsa"
      },
      "execution_count": 16,
      "outputs": []
    },
    {
      "cell_type": "code",
      "source": [
        "tokens"
      ],
      "metadata": {
        "colab": {
          "base_uri": "https://localhost:8080/"
        },
        "id": "nonxsDXA8w8q",
        "outputId": "2b10708e-242b-4740-84b2-1581993dab10"
      },
      "execution_count": 17,
      "outputs": [
        {
          "output_type": "execute_result",
          "data": {
            "text/plain": [
              "['sherlock',\n",
              " 'holmes',\n",
              " 'woman',\n",
              " 'seldom',\n",
              " 'heard',\n",
              " 'mention',\n",
              " 'eyes',\n",
              " 'eclipses',\n",
              " 'predominates',\n",
              " 'sex',\n",
              " 'felt',\n",
              " 'emotion',\n",
              " 'akin',\n",
              " 'love',\n",
              " 'irene',\n",
              " 'adler',\n",
              " 'emotions',\n",
              " 'particularly',\n",
              " 'abhorrent',\n",
              " 'cold',\n",
              " 'precise',\n",
              " 'admirably',\n",
              " 'balanced',\n",
              " 'mind',\n",
              " 'perfect',\n",
              " 'reasoning',\n",
              " 'observing',\n",
              " 'machine',\n",
              " 'world',\n",
              " 'seen',\n",
              " 'lover',\n",
              " 'placed',\n",
              " 'false',\n",
              " 'position',\n",
              " 'spoke',\n",
              " 'softer',\n",
              " 'passions',\n",
              " 'save',\n",
              " 'gibe',\n",
              " 'sneer',\n",
              " 'admirable',\n",
              " 'things',\n",
              " 'observer',\n",
              " 'excellent',\n",
              " 'drawing',\n",
              " 'veil',\n",
              " 'men',\n",
              " 'motives',\n",
              " 'actions',\n",
              " 'trained',\n",
              " 'reasoner',\n",
              " 'admit',\n",
              " 'intrusions',\n",
              " 'delicate',\n",
              " 'finely',\n",
              " 'adjusted',\n",
              " 'temperament',\n",
              " 'introduce',\n",
              " 'distracting',\n",
              " 'factor',\n",
              " 'throw',\n",
              " 'doubt',\n",
              " 'mental',\n",
              " 'results',\n",
              " 'grit',\n",
              " 'sensitive',\n",
              " 'instrument',\n",
              " 'crack',\n",
              " 'high',\n",
              " 'power',\n",
              " 'lenses',\n",
              " 'disturbing',\n",
              " 'strong',\n",
              " 'emotion',\n",
              " 'nature',\n",
              " 'woman',\n",
              " 'woman',\n",
              " 'late',\n",
              " 'irene',\n",
              " 'adler',\n",
              " 'dubious',\n",
              " 'questionable',\n",
              " 'memory']"
            ]
          },
          "metadata": {},
          "execution_count": 17
        }
      ]
    },
    {
      "cell_type": "code",
      "source": [
        "tokens1=[]\n",
        "\n",
        "stopwords=list(STOP_WORDS)\n",
        "allowed_pos=[\"ADJ\",\"PROPN\",\"VERB\",\"NOUN\"]\n",
        "\n",
        "for token in doc:\n",
        "  if token.text in stopwords or token.text in punctuation:\n",
        "    continue\n",
        "  if token.pos_ in allowed_pos:\n",
        "    tokens1.append(token.text)"
      ],
      "metadata": {
        "id": "3zbPr_ys80Ai"
      },
      "execution_count": 18,
      "outputs": []
    },
    {
      "cell_type": "code",
      "source": [
        "tokens1"
      ],
      "metadata": {
        "colab": {
          "base_uri": "https://localhost:8080/"
        },
        "id": "s_DdQQXE_Z_6",
        "outputId": "f5492ba4-3fbb-4255-ee56-d033fd2b6be2"
      },
      "execution_count": 19,
      "outputs": [
        {
          "output_type": "execute_result",
          "data": {
            "text/plain": [
              "['Sherlock',\n",
              " 'Holmes',\n",
              " 'woman',\n",
              " 'heard',\n",
              " 'mention',\n",
              " 'eyes',\n",
              " 'eclipses',\n",
              " 'predominates',\n",
              " 'sex',\n",
              " 'felt',\n",
              " 'emotion',\n",
              " 'akin',\n",
              " 'love',\n",
              " 'Irene',\n",
              " 'Adler',\n",
              " 'emotions',\n",
              " 'abhorrent',\n",
              " 'cold',\n",
              " 'precise',\n",
              " 'balanced',\n",
              " 'mind',\n",
              " 'perfect',\n",
              " 'reasoning',\n",
              " 'observing',\n",
              " 'machine',\n",
              " 'world',\n",
              " 'seen',\n",
              " 'lover',\n",
              " 'placed',\n",
              " 'false',\n",
              " 'position',\n",
              " 'spoke',\n",
              " 'softer',\n",
              " 'passions',\n",
              " 'save',\n",
              " 'gibe',\n",
              " 'sneer',\n",
              " 'admirable',\n",
              " 'things',\n",
              " 'observer',\n",
              " 'excellent',\n",
              " 'drawing',\n",
              " 'veil',\n",
              " 'men',\n",
              " 'motives',\n",
              " 'actions',\n",
              " 'trained',\n",
              " 'reasoner',\n",
              " 'admit',\n",
              " 'intrusions',\n",
              " 'delicate',\n",
              " 'adjusted',\n",
              " 'temperament',\n",
              " 'introduce',\n",
              " 'distracting',\n",
              " 'factor',\n",
              " 'throw',\n",
              " 'doubt',\n",
              " 'mental',\n",
              " 'results',\n",
              " 'Grit',\n",
              " 'sensitive',\n",
              " 'instrument',\n",
              " 'crack',\n",
              " 'high',\n",
              " 'power',\n",
              " 'lenses',\n",
              " 'disturbing',\n",
              " 'strong',\n",
              " 'emotion',\n",
              " 'nature',\n",
              " 'woman',\n",
              " 'woman',\n",
              " 'late',\n",
              " 'Irene',\n",
              " 'Adler',\n",
              " 'dubious',\n",
              " 'questionable',\n",
              " 'memory']"
            ]
          },
          "metadata": {},
          "execution_count": 19
        }
      ]
    },
    {
      "cell_type": "code",
      "source": [
        "from collections import Counter"
      ],
      "metadata": {
        "id": "6J7B5QMA_cdT"
      },
      "execution_count": 20,
      "outputs": []
    },
    {
      "cell_type": "code",
      "source": [
        "word_freq=Counter(tokens1)"
      ],
      "metadata": {
        "id": "_-6ZcA0R_6EP"
      },
      "execution_count": 22,
      "outputs": []
    },
    {
      "cell_type": "code",
      "source": [
        "word_freq"
      ],
      "metadata": {
        "colab": {
          "base_uri": "https://localhost:8080/"
        },
        "id": "LudajORUAC0W",
        "outputId": "9478b381-0e6f-4fb3-9a9b-cee5a3141fef"
      },
      "execution_count": 23,
      "outputs": [
        {
          "output_type": "execute_result",
          "data": {
            "text/plain": [
              "Counter({'Sherlock': 1,\n",
              "         'Holmes': 1,\n",
              "         'woman': 3,\n",
              "         'heard': 1,\n",
              "         'mention': 1,\n",
              "         'eyes': 1,\n",
              "         'eclipses': 1,\n",
              "         'predominates': 1,\n",
              "         'sex': 1,\n",
              "         'felt': 1,\n",
              "         'emotion': 2,\n",
              "         'akin': 1,\n",
              "         'love': 1,\n",
              "         'Irene': 2,\n",
              "         'Adler': 2,\n",
              "         'emotions': 1,\n",
              "         'abhorrent': 1,\n",
              "         'cold': 1,\n",
              "         'precise': 1,\n",
              "         'balanced': 1,\n",
              "         'mind': 1,\n",
              "         'perfect': 1,\n",
              "         'reasoning': 1,\n",
              "         'observing': 1,\n",
              "         'machine': 1,\n",
              "         'world': 1,\n",
              "         'seen': 1,\n",
              "         'lover': 1,\n",
              "         'placed': 1,\n",
              "         'false': 1,\n",
              "         'position': 1,\n",
              "         'spoke': 1,\n",
              "         'softer': 1,\n",
              "         'passions': 1,\n",
              "         'save': 1,\n",
              "         'gibe': 1,\n",
              "         'sneer': 1,\n",
              "         'admirable': 1,\n",
              "         'things': 1,\n",
              "         'observer': 1,\n",
              "         'excellent': 1,\n",
              "         'drawing': 1,\n",
              "         'veil': 1,\n",
              "         'men': 1,\n",
              "         'motives': 1,\n",
              "         'actions': 1,\n",
              "         'trained': 1,\n",
              "         'reasoner': 1,\n",
              "         'admit': 1,\n",
              "         'intrusions': 1,\n",
              "         'delicate': 1,\n",
              "         'adjusted': 1,\n",
              "         'temperament': 1,\n",
              "         'introduce': 1,\n",
              "         'distracting': 1,\n",
              "         'factor': 1,\n",
              "         'throw': 1,\n",
              "         'doubt': 1,\n",
              "         'mental': 1,\n",
              "         'results': 1,\n",
              "         'Grit': 1,\n",
              "         'sensitive': 1,\n",
              "         'instrument': 1,\n",
              "         'crack': 1,\n",
              "         'high': 1,\n",
              "         'power': 1,\n",
              "         'lenses': 1,\n",
              "         'disturbing': 1,\n",
              "         'strong': 1,\n",
              "         'nature': 1,\n",
              "         'late': 1,\n",
              "         'dubious': 1,\n",
              "         'questionable': 1,\n",
              "         'memory': 1})"
            ]
          },
          "metadata": {},
          "execution_count": 23
        }
      ]
    },
    {
      "cell_type": "code",
      "source": [
        "max_freq=max(word_freq.values())"
      ],
      "metadata": {
        "id": "QKfQXrsbAL8H"
      },
      "execution_count": 24,
      "outputs": []
    },
    {
      "cell_type": "code",
      "source": [
        "max_freq"
      ],
      "metadata": {
        "colab": {
          "base_uri": "https://localhost:8080/"
        },
        "id": "MC4EuM1JAXfB",
        "outputId": "68be473b-002d-4007-827b-6cdddb661d4b"
      },
      "execution_count": 25,
      "outputs": [
        {
          "output_type": "execute_result",
          "data": {
            "text/plain": [
              "3"
            ]
          },
          "metadata": {},
          "execution_count": 25
        }
      ]
    },
    {
      "cell_type": "code",
      "source": [
        "for word in word_freq.keys():\n",
        "  word_freq[word]=word_freq[word]/max_freq"
      ],
      "metadata": {
        "id": "FGkvEx3sAZNF"
      },
      "execution_count": 26,
      "outputs": []
    },
    {
      "cell_type": "code",
      "source": [
        "word_freq"
      ],
      "metadata": {
        "colab": {
          "base_uri": "https://localhost:8080/"
        },
        "id": "13Y21WSEAwCy",
        "outputId": "1a8c7de0-0e68-41d9-81ea-af1197273630"
      },
      "execution_count": 27,
      "outputs": [
        {
          "output_type": "execute_result",
          "data": {
            "text/plain": [
              "Counter({'Sherlock': 0.3333333333333333,\n",
              "         'Holmes': 0.3333333333333333,\n",
              "         'woman': 1.0,\n",
              "         'heard': 0.3333333333333333,\n",
              "         'mention': 0.3333333333333333,\n",
              "         'eyes': 0.3333333333333333,\n",
              "         'eclipses': 0.3333333333333333,\n",
              "         'predominates': 0.3333333333333333,\n",
              "         'sex': 0.3333333333333333,\n",
              "         'felt': 0.3333333333333333,\n",
              "         'emotion': 0.6666666666666666,\n",
              "         'akin': 0.3333333333333333,\n",
              "         'love': 0.3333333333333333,\n",
              "         'Irene': 0.6666666666666666,\n",
              "         'Adler': 0.6666666666666666,\n",
              "         'emotions': 0.3333333333333333,\n",
              "         'abhorrent': 0.3333333333333333,\n",
              "         'cold': 0.3333333333333333,\n",
              "         'precise': 0.3333333333333333,\n",
              "         'balanced': 0.3333333333333333,\n",
              "         'mind': 0.3333333333333333,\n",
              "         'perfect': 0.3333333333333333,\n",
              "         'reasoning': 0.3333333333333333,\n",
              "         'observing': 0.3333333333333333,\n",
              "         'machine': 0.3333333333333333,\n",
              "         'world': 0.3333333333333333,\n",
              "         'seen': 0.3333333333333333,\n",
              "         'lover': 0.3333333333333333,\n",
              "         'placed': 0.3333333333333333,\n",
              "         'false': 0.3333333333333333,\n",
              "         'position': 0.3333333333333333,\n",
              "         'spoke': 0.3333333333333333,\n",
              "         'softer': 0.3333333333333333,\n",
              "         'passions': 0.3333333333333333,\n",
              "         'save': 0.3333333333333333,\n",
              "         'gibe': 0.3333333333333333,\n",
              "         'sneer': 0.3333333333333333,\n",
              "         'admirable': 0.3333333333333333,\n",
              "         'things': 0.3333333333333333,\n",
              "         'observer': 0.3333333333333333,\n",
              "         'excellent': 0.3333333333333333,\n",
              "         'drawing': 0.3333333333333333,\n",
              "         'veil': 0.3333333333333333,\n",
              "         'men': 0.3333333333333333,\n",
              "         'motives': 0.3333333333333333,\n",
              "         'actions': 0.3333333333333333,\n",
              "         'trained': 0.3333333333333333,\n",
              "         'reasoner': 0.3333333333333333,\n",
              "         'admit': 0.3333333333333333,\n",
              "         'intrusions': 0.3333333333333333,\n",
              "         'delicate': 0.3333333333333333,\n",
              "         'adjusted': 0.3333333333333333,\n",
              "         'temperament': 0.3333333333333333,\n",
              "         'introduce': 0.3333333333333333,\n",
              "         'distracting': 0.3333333333333333,\n",
              "         'factor': 0.3333333333333333,\n",
              "         'throw': 0.3333333333333333,\n",
              "         'doubt': 0.3333333333333333,\n",
              "         'mental': 0.3333333333333333,\n",
              "         'results': 0.3333333333333333,\n",
              "         'Grit': 0.3333333333333333,\n",
              "         'sensitive': 0.3333333333333333,\n",
              "         'instrument': 0.3333333333333333,\n",
              "         'crack': 0.3333333333333333,\n",
              "         'high': 0.3333333333333333,\n",
              "         'power': 0.3333333333333333,\n",
              "         'lenses': 0.3333333333333333,\n",
              "         'disturbing': 0.3333333333333333,\n",
              "         'strong': 0.3333333333333333,\n",
              "         'nature': 0.3333333333333333,\n",
              "         'late': 0.3333333333333333,\n",
              "         'dubious': 0.3333333333333333,\n",
              "         'questionable': 0.3333333333333333,\n",
              "         'memory': 0.3333333333333333})"
            ]
          },
          "metadata": {},
          "execution_count": 27
        }
      ]
    },
    {
      "cell_type": "code",
      "source": [
        "sent_token=[sent.text for sent in doc.sents]"
      ],
      "metadata": {
        "id": "Z_4GDTDXAzjF"
      },
      "execution_count": 28,
      "outputs": []
    },
    {
      "cell_type": "code",
      "source": [
        "sent_token"
      ],
      "metadata": {
        "colab": {
          "base_uri": "https://localhost:8080/"
        },
        "id": "pgpxV-hqCL7P",
        "outputId": "4d5e3e09-87c4-4da6-fa2f-a76702fdd19f"
      },
      "execution_count": 35,
      "outputs": [
        {
          "output_type": "execute_result",
          "data": {
            "text/plain": [
              "['To Sherlock Holmes she is always the woman.',\n",
              " 'I have seldom heard him\\n     mention her under any other name.',\n",
              " 'In his eyes she eclipses and\\n     predominates the whole of her sex.',\n",
              " 'It was not that he felt any\\n     emotion akin to love for Irene Adler.',\n",
              " 'All emotions, and that one\\n     particularly, were abhorrent to his cold, precise but admirably\\n     balanced mind.',\n",
              " 'He was, I take it, the most perfect reasoning and\\n     observing machine that the world has seen, but as a lover he would\\n     have placed himself in a false position.',\n",
              " 'He never spoke of the softer\\n     passions, save with a gibe and a sneer.',\n",
              " \"They were admirable things\\n     for the observer--excellent for drawing the veil from men's motives\\n     and actions.\",\n",
              " 'But for the trained reasoner to admit such intrusions\\n     into his own delicate and finely adjusted temperament was to\\n     introduce a distracting factor which might throw a doubt upon all his\\n     mental results.',\n",
              " 'Grit in a sensitive instrument, or a crack in one of\\n     his own high-power lenses, would not be more disturbing than a strong\\n     emotion in a nature such as his.',\n",
              " 'And yet there was but one woman to\\n     him, and that woman was the late Irene Adler, of dubious and\\n     questionable memory.']"
            ]
          },
          "metadata": {},
          "execution_count": 35
        }
      ]
    },
    {
      "cell_type": "code",
      "source": [
        "clean_sent=[sentence.replace(\"\\n\",\"\").replace(\"\\t\",\"\")  for sentence in sent_token]"
      ],
      "metadata": {
        "id": "otMVvgVrBGPp"
      },
      "execution_count": 42,
      "outputs": []
    },
    {
      "cell_type": "code",
      "source": [
        "clean_sent"
      ],
      "metadata": {
        "colab": {
          "base_uri": "https://localhost:8080/"
        },
        "id": "ESz4IUZIBHWr",
        "outputId": "63f77b31-c0f8-4bb6-ca73-8c476cc59f84"
      },
      "execution_count": 40,
      "outputs": [
        {
          "output_type": "execute_result",
          "data": {
            "text/plain": [
              "['To Sherlock Holmes she is always the woman.',\n",
              " 'I have seldom heard him     mention her under any other name.',\n",
              " 'In his eyes she eclipses and     predominates the whole of her sex.',\n",
              " 'It was not that he felt any     emotion akin to love for Irene Adler.',\n",
              " 'All emotions, and that one     particularly, were abhorrent to his cold, precise but admirably     balanced mind.',\n",
              " 'He was, I take it, the most perfect reasoning and     observing machine that the world has seen, but as a lover he would     have placed himself in a false position.',\n",
              " 'He never spoke of the softer     passions, save with a gibe and a sneer.',\n",
              " \"They were admirable things     for the observer--excellent for drawing the veil from men's motives     and actions.\",\n",
              " 'But for the trained reasoner to admit such intrusions     into his own delicate and finely adjusted temperament was to     introduce a distracting factor which might throw a doubt upon all his     mental results.',\n",
              " 'Grit in a sensitive instrument, or a crack in one of     his own high-power lenses, would not be more disturbing than a strong     emotion in a nature such as his.',\n",
              " 'And yet there was but one woman to     him, and that woman was the late Irene Adler, of dubious and     questionable memory.']"
            ]
          },
          "metadata": {},
          "execution_count": 40
        }
      ]
    },
    {
      "cell_type": "code",
      "source": [
        "import re\n",
        "\n",
        "sent_token = [\n",
        "    \"To Sherlock Holmes she is always the woman.\",\n",
        "    \"I have seldom heard him     mention her under any other name.\",\n",
        "    \"In his eyes she eclipses and     predominates the whole of her sex.\",\n",
        "    \"It was not that he felt any     emotion akin to love for Irene Adler.\",\n",
        "    \"All emotions, and that one     particularly, were abhorrent to his cold, precise but admirably     balanced mind.\",\n",
        "    \"He was, I take it, the most perfect reasoning and     observing machine that the world has seen, but as a lover he would     have placed himself in a false position.\",\n",
        "    \"He never spoke of the softer     passions, save with a gibe and a sneer.\",\n",
        "    \"They were admirable things     for the observer--excellent for drawing the veil from men's motives     and actions.\",\n",
        "    \"But for the trained reasoner to admit such intrusions     into his own delicate and finely adjusted temperament was to     introduce a distracting factor which might throw a doubt upon all his     mental results.\",\n",
        "    \"Grit in a sensitive instrument, or a crack in one of     his own high-power lenses, would not be more disturbing than a strong     emotion in a nature such as his.\",\n",
        "    \"And yet there was but one woman to     him, and that woman was the late Irene Adler, of dubious and     questionable memory.\"\n",
        "]\n",
        "\n",
        "# Clean up extra whitespace\n",
        "clean_sent = [re.sub(r'\\s+', ' ', s).strip() for s in sent_token]\n",
        "\n",
        "# Now print the cleaned list\n",
        "for line in clean_sent:\n",
        "    print(line)\n"
      ],
      "metadata": {
        "colab": {
          "base_uri": "https://localhost:8080/"
        },
        "id": "lVhi-efuBp_N",
        "outputId": "70601e12-ac49-4dcd-f05e-4f47c18a9fc8"
      },
      "execution_count": 44,
      "outputs": [
        {
          "output_type": "stream",
          "name": "stdout",
          "text": [
            "To Sherlock Holmes she is always the woman.\n",
            "I have seldom heard him mention her under any other name.\n",
            "In his eyes she eclipses and predominates the whole of her sex.\n",
            "It was not that he felt any emotion akin to love for Irene Adler.\n",
            "All emotions, and that one particularly, were abhorrent to his cold, precise but admirably balanced mind.\n",
            "He was, I take it, the most perfect reasoning and observing machine that the world has seen, but as a lover he would have placed himself in a false position.\n",
            "He never spoke of the softer passions, save with a gibe and a sneer.\n",
            "They were admirable things for the observer--excellent for drawing the veil from men's motives and actions.\n",
            "But for the trained reasoner to admit such intrusions into his own delicate and finely adjusted temperament was to introduce a distracting factor which might throw a doubt upon all his mental results.\n",
            "Grit in a sensitive instrument, or a crack in one of his own high-power lenses, would not be more disturbing than a strong emotion in a nature such as his.\n",
            "And yet there was but one woman to him, and that woman was the late Irene Adler, of dubious and questionable memory.\n"
          ]
        }
      ]
    },
    {
      "cell_type": "code",
      "source": [
        "clean_sent"
      ],
      "metadata": {
        "colab": {
          "base_uri": "https://localhost:8080/"
        },
        "id": "jVR9pAwRDwkT",
        "outputId": "dd6d99cc-62d3-43e3-d295-2a7af429a390"
      },
      "execution_count": 45,
      "outputs": [
        {
          "output_type": "execute_result",
          "data": {
            "text/plain": [
              "['To Sherlock Holmes she is always the woman.',\n",
              " 'I have seldom heard him mention her under any other name.',\n",
              " 'In his eyes she eclipses and predominates the whole of her sex.',\n",
              " 'It was not that he felt any emotion akin to love for Irene Adler.',\n",
              " 'All emotions, and that one particularly, were abhorrent to his cold, precise but admirably balanced mind.',\n",
              " 'He was, I take it, the most perfect reasoning and observing machine that the world has seen, but as a lover he would have placed himself in a false position.',\n",
              " 'He never spoke of the softer passions, save with a gibe and a sneer.',\n",
              " \"They were admirable things for the observer--excellent for drawing the veil from men's motives and actions.\",\n",
              " 'But for the trained reasoner to admit such intrusions into his own delicate and finely adjusted temperament was to introduce a distracting factor which might throw a doubt upon all his mental results.',\n",
              " 'Grit in a sensitive instrument, or a crack in one of his own high-power lenses, would not be more disturbing than a strong emotion in a nature such as his.',\n",
              " 'And yet there was but one woman to him, and that woman was the late Irene Adler, of dubious and questionable memory.']"
            ]
          },
          "metadata": {},
          "execution_count": 45
        }
      ]
    },
    {
      "cell_type": "code",
      "source": [
        "sent_score = {}\n",
        "for sent in clean_sent:\n",
        "    for word in sent.split():\n",
        "        word = word.lower()\n",
        "        if word in word_freq:\n",
        "            if sent not in sent_score:\n",
        "                sent_score[sent] = word_freq[word]\n",
        "            else:\n",
        "                sent_score[sent] += word_freq[word]\n"
      ],
      "metadata": {
        "id": "MoTq5sOyEyi2"
      },
      "execution_count": 53,
      "outputs": []
    },
    {
      "cell_type": "code",
      "source": [
        "sent_score"
      ],
      "metadata": {
        "colab": {
          "base_uri": "https://localhost:8080/"
        },
        "id": "8YD9GuzeEq_s",
        "outputId": "27998dd9-a481-483f-d5e5-f56fffe51657"
      },
      "execution_count": 54,
      "outputs": [
        {
          "output_type": "execute_result",
          "data": {
            "text/plain": [
              "{'I have seldom heard him mention her under any other name.': 0.6666666666666666,\n",
              " 'In his eyes she eclipses and predominates the whole of her sex.': 1.0,\n",
              " 'It was not that he felt any emotion akin to love for Irene Adler.': 1.6666666666666665,\n",
              " 'All emotions, and that one particularly, were abhorrent to his cold, precise but admirably balanced mind.': 1.0,\n",
              " 'He was, I take it, the most perfect reasoning and observing machine that the world has seen, but as a lover he would have placed himself in a false position.': 2.6666666666666665,\n",
              " 'He never spoke of the softer passions, save with a gibe and a sneer.': 1.3333333333333333,\n",
              " \"They were admirable things for the observer--excellent for drawing the veil from men's motives and actions.\": 1.6666666666666665,\n",
              " 'But for the trained reasoner to admit such intrusions into his own delicate and finely adjusted temperament was to introduce a distracting factor which might throw a doubt upon all his mental results.': 4.333333333333333,\n",
              " 'Grit in a sensitive instrument, or a crack in one of his own high-power lenses, would not be more disturbing than a strong emotion in a nature such as his.': 2.3333333333333335,\n",
              " 'And yet there was but one woman to him, and that woman was the late Irene Adler, of dubious and questionable memory.': 3.0000000000000004}"
            ]
          },
          "metadata": {},
          "execution_count": 54
        }
      ]
    },
    {
      "cell_type": "code",
      "source": [
        "import pandas as pd\n"
      ],
      "metadata": {
        "id": "sSYQJ2KsGlxI"
      },
      "execution_count": 55,
      "outputs": []
    },
    {
      "cell_type": "code",
      "source": [
        "pd.DataFrame(list(sent_score.items()),columns=[\"sentence\",\"score\"])"
      ],
      "metadata": {
        "colab": {
          "base_uri": "https://localhost:8080/",
          "height": 363
        },
        "id": "Z3nl8xNlHDZe",
        "outputId": "32a164de-2439-42e6-a0a4-0f6e074203b9"
      },
      "execution_count": 56,
      "outputs": [
        {
          "output_type": "execute_result",
          "data": {
            "text/plain": [
              "                                            sentence     score\n",
              "0  I have seldom heard him mention her under any ...  0.666667\n",
              "1  In his eyes she eclipses and predominates the ...  1.000000\n",
              "2  It was not that he felt any emotion akin to lo...  1.666667\n",
              "3  All emotions, and that one particularly, were ...  1.000000\n",
              "4  He was, I take it, the most perfect reasoning ...  2.666667\n",
              "5  He never spoke of the softer passions, save wi...  1.333333\n",
              "6  They were admirable things for the observer--e...  1.666667\n",
              "7  But for the trained reasoner to admit such int...  4.333333\n",
              "8  Grit in a sensitive instrument, or a crack in ...  2.333333\n",
              "9  And yet there was but one woman to him, and th...  3.000000"
            ],
            "text/html": [
              "\n",
              "  <div id=\"df-d16bb899-14fc-4881-ba58-2d05d1e2be37\" class=\"colab-df-container\">\n",
              "    <div>\n",
              "<style scoped>\n",
              "    .dataframe tbody tr th:only-of-type {\n",
              "        vertical-align: middle;\n",
              "    }\n",
              "\n",
              "    .dataframe tbody tr th {\n",
              "        vertical-align: top;\n",
              "    }\n",
              "\n",
              "    .dataframe thead th {\n",
              "        text-align: right;\n",
              "    }\n",
              "</style>\n",
              "<table border=\"1\" class=\"dataframe\">\n",
              "  <thead>\n",
              "    <tr style=\"text-align: right;\">\n",
              "      <th></th>\n",
              "      <th>sentence</th>\n",
              "      <th>score</th>\n",
              "    </tr>\n",
              "  </thead>\n",
              "  <tbody>\n",
              "    <tr>\n",
              "      <th>0</th>\n",
              "      <td>I have seldom heard him mention her under any ...</td>\n",
              "      <td>0.666667</td>\n",
              "    </tr>\n",
              "    <tr>\n",
              "      <th>1</th>\n",
              "      <td>In his eyes she eclipses and predominates the ...</td>\n",
              "      <td>1.000000</td>\n",
              "    </tr>\n",
              "    <tr>\n",
              "      <th>2</th>\n",
              "      <td>It was not that he felt any emotion akin to lo...</td>\n",
              "      <td>1.666667</td>\n",
              "    </tr>\n",
              "    <tr>\n",
              "      <th>3</th>\n",
              "      <td>All emotions, and that one particularly, were ...</td>\n",
              "      <td>1.000000</td>\n",
              "    </tr>\n",
              "    <tr>\n",
              "      <th>4</th>\n",
              "      <td>He was, I take it, the most perfect reasoning ...</td>\n",
              "      <td>2.666667</td>\n",
              "    </tr>\n",
              "    <tr>\n",
              "      <th>5</th>\n",
              "      <td>He never spoke of the softer passions, save wi...</td>\n",
              "      <td>1.333333</td>\n",
              "    </tr>\n",
              "    <tr>\n",
              "      <th>6</th>\n",
              "      <td>They were admirable things for the observer--e...</td>\n",
              "      <td>1.666667</td>\n",
              "    </tr>\n",
              "    <tr>\n",
              "      <th>7</th>\n",
              "      <td>But for the trained reasoner to admit such int...</td>\n",
              "      <td>4.333333</td>\n",
              "    </tr>\n",
              "    <tr>\n",
              "      <th>8</th>\n",
              "      <td>Grit in a sensitive instrument, or a crack in ...</td>\n",
              "      <td>2.333333</td>\n",
              "    </tr>\n",
              "    <tr>\n",
              "      <th>9</th>\n",
              "      <td>And yet there was but one woman to him, and th...</td>\n",
              "      <td>3.000000</td>\n",
              "    </tr>\n",
              "  </tbody>\n",
              "</table>\n",
              "</div>\n",
              "    <div class=\"colab-df-buttons\">\n",
              "\n",
              "  <div class=\"colab-df-container\">\n",
              "    <button class=\"colab-df-convert\" onclick=\"convertToInteractive('df-d16bb899-14fc-4881-ba58-2d05d1e2be37')\"\n",
              "            title=\"Convert this dataframe to an interactive table.\"\n",
              "            style=\"display:none;\">\n",
              "\n",
              "  <svg xmlns=\"http://www.w3.org/2000/svg\" height=\"24px\" viewBox=\"0 -960 960 960\">\n",
              "    <path d=\"M120-120v-720h720v720H120Zm60-500h600v-160H180v160Zm220 220h160v-160H400v160Zm0 220h160v-160H400v160ZM180-400h160v-160H180v160Zm440 0h160v-160H620v160ZM180-180h160v-160H180v160Zm440 0h160v-160H620v160Z\"/>\n",
              "  </svg>\n",
              "    </button>\n",
              "\n",
              "  <style>\n",
              "    .colab-df-container {\n",
              "      display:flex;\n",
              "      gap: 12px;\n",
              "    }\n",
              "\n",
              "    .colab-df-convert {\n",
              "      background-color: #E8F0FE;\n",
              "      border: none;\n",
              "      border-radius: 50%;\n",
              "      cursor: pointer;\n",
              "      display: none;\n",
              "      fill: #1967D2;\n",
              "      height: 32px;\n",
              "      padding: 0 0 0 0;\n",
              "      width: 32px;\n",
              "    }\n",
              "\n",
              "    .colab-df-convert:hover {\n",
              "      background-color: #E2EBFA;\n",
              "      box-shadow: 0px 1px 2px rgba(60, 64, 67, 0.3), 0px 1px 3px 1px rgba(60, 64, 67, 0.15);\n",
              "      fill: #174EA6;\n",
              "    }\n",
              "\n",
              "    .colab-df-buttons div {\n",
              "      margin-bottom: 4px;\n",
              "    }\n",
              "\n",
              "    [theme=dark] .colab-df-convert {\n",
              "      background-color: #3B4455;\n",
              "      fill: #D2E3FC;\n",
              "    }\n",
              "\n",
              "    [theme=dark] .colab-df-convert:hover {\n",
              "      background-color: #434B5C;\n",
              "      box-shadow: 0px 1px 3px 1px rgba(0, 0, 0, 0.15);\n",
              "      filter: drop-shadow(0px 1px 2px rgba(0, 0, 0, 0.3));\n",
              "      fill: #FFFFFF;\n",
              "    }\n",
              "  </style>\n",
              "\n",
              "    <script>\n",
              "      const buttonEl =\n",
              "        document.querySelector('#df-d16bb899-14fc-4881-ba58-2d05d1e2be37 button.colab-df-convert');\n",
              "      buttonEl.style.display =\n",
              "        google.colab.kernel.accessAllowed ? 'block' : 'none';\n",
              "\n",
              "      async function convertToInteractive(key) {\n",
              "        const element = document.querySelector('#df-d16bb899-14fc-4881-ba58-2d05d1e2be37');\n",
              "        const dataTable =\n",
              "          await google.colab.kernel.invokeFunction('convertToInteractive',\n",
              "                                                    [key], {});\n",
              "        if (!dataTable) return;\n",
              "\n",
              "        const docLinkHtml = 'Like what you see? Visit the ' +\n",
              "          '<a target=\"_blank\" href=https://colab.research.google.com/notebooks/data_table.ipynb>data table notebook</a>'\n",
              "          + ' to learn more about interactive tables.';\n",
              "        element.innerHTML = '';\n",
              "        dataTable['output_type'] = 'display_data';\n",
              "        await google.colab.output.renderOutput(dataTable, element);\n",
              "        const docLink = document.createElement('div');\n",
              "        docLink.innerHTML = docLinkHtml;\n",
              "        element.appendChild(docLink);\n",
              "      }\n",
              "    </script>\n",
              "  </div>\n",
              "\n",
              "\n",
              "    <div id=\"df-fbde988e-a833-48ec-a6df-265d987dba48\">\n",
              "      <button class=\"colab-df-quickchart\" onclick=\"quickchart('df-fbde988e-a833-48ec-a6df-265d987dba48')\"\n",
              "                title=\"Suggest charts\"\n",
              "                style=\"display:none;\">\n",
              "\n",
              "<svg xmlns=\"http://www.w3.org/2000/svg\" height=\"24px\"viewBox=\"0 0 24 24\"\n",
              "     width=\"24px\">\n",
              "    <g>\n",
              "        <path d=\"M19 3H5c-1.1 0-2 .9-2 2v14c0 1.1.9 2 2 2h14c1.1 0 2-.9 2-2V5c0-1.1-.9-2-2-2zM9 17H7v-7h2v7zm4 0h-2V7h2v10zm4 0h-2v-4h2v4z\"/>\n",
              "    </g>\n",
              "</svg>\n",
              "      </button>\n",
              "\n",
              "<style>\n",
              "  .colab-df-quickchart {\n",
              "      --bg-color: #E8F0FE;\n",
              "      --fill-color: #1967D2;\n",
              "      --hover-bg-color: #E2EBFA;\n",
              "      --hover-fill-color: #174EA6;\n",
              "      --disabled-fill-color: #AAA;\n",
              "      --disabled-bg-color: #DDD;\n",
              "  }\n",
              "\n",
              "  [theme=dark] .colab-df-quickchart {\n",
              "      --bg-color: #3B4455;\n",
              "      --fill-color: #D2E3FC;\n",
              "      --hover-bg-color: #434B5C;\n",
              "      --hover-fill-color: #FFFFFF;\n",
              "      --disabled-bg-color: #3B4455;\n",
              "      --disabled-fill-color: #666;\n",
              "  }\n",
              "\n",
              "  .colab-df-quickchart {\n",
              "    background-color: var(--bg-color);\n",
              "    border: none;\n",
              "    border-radius: 50%;\n",
              "    cursor: pointer;\n",
              "    display: none;\n",
              "    fill: var(--fill-color);\n",
              "    height: 32px;\n",
              "    padding: 0;\n",
              "    width: 32px;\n",
              "  }\n",
              "\n",
              "  .colab-df-quickchart:hover {\n",
              "    background-color: var(--hover-bg-color);\n",
              "    box-shadow: 0 1px 2px rgba(60, 64, 67, 0.3), 0 1px 3px 1px rgba(60, 64, 67, 0.15);\n",
              "    fill: var(--button-hover-fill-color);\n",
              "  }\n",
              "\n",
              "  .colab-df-quickchart-complete:disabled,\n",
              "  .colab-df-quickchart-complete:disabled:hover {\n",
              "    background-color: var(--disabled-bg-color);\n",
              "    fill: var(--disabled-fill-color);\n",
              "    box-shadow: none;\n",
              "  }\n",
              "\n",
              "  .colab-df-spinner {\n",
              "    border: 2px solid var(--fill-color);\n",
              "    border-color: transparent;\n",
              "    border-bottom-color: var(--fill-color);\n",
              "    animation:\n",
              "      spin 1s steps(1) infinite;\n",
              "  }\n",
              "\n",
              "  @keyframes spin {\n",
              "    0% {\n",
              "      border-color: transparent;\n",
              "      border-bottom-color: var(--fill-color);\n",
              "      border-left-color: var(--fill-color);\n",
              "    }\n",
              "    20% {\n",
              "      border-color: transparent;\n",
              "      border-left-color: var(--fill-color);\n",
              "      border-top-color: var(--fill-color);\n",
              "    }\n",
              "    30% {\n",
              "      border-color: transparent;\n",
              "      border-left-color: var(--fill-color);\n",
              "      border-top-color: var(--fill-color);\n",
              "      border-right-color: var(--fill-color);\n",
              "    }\n",
              "    40% {\n",
              "      border-color: transparent;\n",
              "      border-right-color: var(--fill-color);\n",
              "      border-top-color: var(--fill-color);\n",
              "    }\n",
              "    60% {\n",
              "      border-color: transparent;\n",
              "      border-right-color: var(--fill-color);\n",
              "    }\n",
              "    80% {\n",
              "      border-color: transparent;\n",
              "      border-right-color: var(--fill-color);\n",
              "      border-bottom-color: var(--fill-color);\n",
              "    }\n",
              "    90% {\n",
              "      border-color: transparent;\n",
              "      border-bottom-color: var(--fill-color);\n",
              "    }\n",
              "  }\n",
              "</style>\n",
              "\n",
              "      <script>\n",
              "        async function quickchart(key) {\n",
              "          const quickchartButtonEl =\n",
              "            document.querySelector('#' + key + ' button');\n",
              "          quickchartButtonEl.disabled = true;  // To prevent multiple clicks.\n",
              "          quickchartButtonEl.classList.add('colab-df-spinner');\n",
              "          try {\n",
              "            const charts = await google.colab.kernel.invokeFunction(\n",
              "                'suggestCharts', [key], {});\n",
              "          } catch (error) {\n",
              "            console.error('Error during call to suggestCharts:', error);\n",
              "          }\n",
              "          quickchartButtonEl.classList.remove('colab-df-spinner');\n",
              "          quickchartButtonEl.classList.add('colab-df-quickchart-complete');\n",
              "        }\n",
              "        (() => {\n",
              "          let quickchartButtonEl =\n",
              "            document.querySelector('#df-fbde988e-a833-48ec-a6df-265d987dba48 button');\n",
              "          quickchartButtonEl.style.display =\n",
              "            google.colab.kernel.accessAllowed ? 'block' : 'none';\n",
              "        })();\n",
              "      </script>\n",
              "    </div>\n",
              "\n",
              "    </div>\n",
              "  </div>\n"
            ],
            "application/vnd.google.colaboratory.intrinsic+json": {
              "type": "dataframe",
              "summary": "{\n  \"name\": \"pd\",\n  \"rows\": 10,\n  \"fields\": [\n    {\n      \"column\": \"sentence\",\n      \"properties\": {\n        \"dtype\": \"string\",\n        \"num_unique_values\": 10,\n        \"samples\": [\n          \"Grit in a sensitive instrument, or a crack in one of his own high-power lenses, would not be more disturbing than a strong emotion in a nature such as his.\",\n          \"In his eyes she eclipses and predominates the whole of her sex.\",\n          \"He never spoke of the softer passions, save with a gibe and a sneer.\"\n        ],\n        \"semantic_type\": \"\",\n        \"description\": \"\"\n      }\n    },\n    {\n      \"column\": \"score\",\n      \"properties\": {\n        \"dtype\": \"number\",\n        \"std\": 1.1271070802591785,\n        \"min\": 0.6666666666666666,\n        \"max\": 4.333333333333333,\n        \"num_unique_values\": 8,\n        \"samples\": [\n          1.0,\n          4.333333333333333,\n          0.6666666666666666\n        ],\n        \"semantic_type\": \"\",\n        \"description\": \"\"\n      }\n    }\n  ]\n}"
            }
          },
          "metadata": {},
          "execution_count": 56
        }
      ]
    },
    {
      "cell_type": "code",
      "source": [
        "from heapq import nlargest"
      ],
      "metadata": {
        "id": "BHjRhMPMHK1k"
      },
      "execution_count": 57,
      "outputs": []
    },
    {
      "cell_type": "code",
      "source": [
        "num_sentences=3\n",
        "n=nlargest(num_sentences,sent_score,key=sent_score.get)\n",
        "n"
      ],
      "metadata": {
        "colab": {
          "base_uri": "https://localhost:8080/"
        },
        "id": "xvMinRmNHSE1",
        "outputId": "8ec1af3f-a90d-46fc-9c3e-4442d68010ac"
      },
      "execution_count": 62,
      "outputs": [
        {
          "output_type": "execute_result",
          "data": {
            "text/plain": [
              "['But for the trained reasoner to admit such intrusions into his own delicate and finely adjusted temperament was to introduce a distracting factor which might throw a doubt upon all his mental results.',\n",
              " 'And yet there was but one woman to him, and that woman was the late Irene Adler, of dubious and questionable memory.',\n",
              " 'He was, I take it, the most perfect reasoning and observing machine that the world has seen, but as a lover he would have placed himself in a false position.']"
            ]
          },
          "metadata": {},
          "execution_count": 62
        }
      ]
    },
    {
      "cell_type": "code",
      "source": [
        "\" \".join(n)"
      ],
      "metadata": {
        "colab": {
          "base_uri": "https://localhost:8080/",
          "height": 90
        },
        "id": "vj81zTKTHaAZ",
        "outputId": "34f7447d-20ce-4fab-9017-ba197dc16178"
      },
      "execution_count": 61,
      "outputs": [
        {
          "output_type": "execute_result",
          "data": {
            "text/plain": [
              "'But for the trained reasoner to admit such intrusions into his own delicate and finely adjusted temperament was to introduce a distracting factor which might throw a doubt upon all his mental results. And yet there was but one woman to him, and that woman was the late Irene Adler, of dubious and questionable memory. He was, I take it, the most perfect reasoning and observing machine that the world has seen, but as a lover he would have placed himself in a false position.'"
            ],
            "application/vnd.google.colaboratory.intrinsic+json": {
              "type": "string"
            }
          },
          "metadata": {},
          "execution_count": 61
        }
      ]
    },
    {
      "cell_type": "code",
      "source": [],
      "metadata": {
        "id": "Cd-DZf5SHoN0"
      },
      "execution_count": null,
      "outputs": []
    },
    {
      "cell_type": "markdown",
      "source": [
        "**Abstractive text summarization**"
      ],
      "metadata": {
        "id": "S2HO-VN8ISLA"
      }
    },
    {
      "cell_type": "code",
      "source": [
        "from transformers import pipeline"
      ],
      "metadata": {
        "id": "6G6YZF5rIYbL"
      },
      "execution_count": 63,
      "outputs": []
    },
    {
      "cell_type": "code",
      "source": [
        "summarizer=pipeline(\"summarization\",model=\"sshleifer/distilbart-cnn-12-6\",framework=\"pt\",tokenizer=\"sshleifer/distilbart-cnn-12-6\")"
      ],
      "metadata": {
        "colab": {
          "base_uri": "https://localhost:8080/"
        },
        "id": "N8fYcyEZJBfr",
        "outputId": "d136334a-0c3f-461c-9610-482ec8cdce4e"
      },
      "execution_count": 66,
      "outputs": [
        {
          "output_type": "stream",
          "name": "stderr",
          "text": [
            "Device set to use cpu\n"
          ]
        }
      ]
    },
    {
      "cell_type": "code",
      "source": [
        "text=\"\"\"To Sherlock Holmes she is always the woman. I have seldom heard him\n",
        "     mention her under any other name. In his eyes she eclipses and\n",
        "     predominates the whole of her sex. It was not that he felt any\n",
        "     emotion akin to love for Irene Adler. All emotions, and that one\n",
        "     particularly, were abhorrent to his cold, precise but admirably\n",
        "     balanced mind. He was, I take it, the most perfect reasoning and\n",
        "     observing machine that the world has seen, but as a lover he would\n",
        "     have placed himself in a false position. He never spoke of the softer\n",
        "     passions, save with a gibe and a sneer. They were admirable things\n",
        "     for the observer--excellent for drawing the veil from men's motives\n",
        "     and actions. But for the trained reasoner to admit such intrusions\n",
        "     into his own delicate and finely adjusted temperament was to\n",
        "     introduce a distracting factor which might throw a doubt upon all his\n",
        "     mental results. Grit in a sensitive instrument, or a crack in one of\n",
        "     his own high-power lenses, would not be more disturbing than a strong\n",
        "     emotion in a nature such as his. And yet there was but one woman to\n",
        "     him, and that woman was the late Irene Adler, of dubious and\n",
        "     questionable memory.\"\"\""
      ],
      "metadata": {
        "id": "QghIiuD_JfhW"
      },
      "execution_count": 67,
      "outputs": []
    },
    {
      "cell_type": "code",
      "source": [
        "summary=summarizer(text,max_length=100,min_length=20,do_sample=False)"
      ],
      "metadata": {
        "id": "VQSOOiFuJ9em"
      },
      "execution_count": 70,
      "outputs": []
    },
    {
      "cell_type": "code",
      "source": [
        "print(summary[0]['summary_text'])"
      ],
      "metadata": {
        "colab": {
          "base_uri": "https://localhost:8080/"
        },
        "id": "ZVeqzhu2KLzx",
        "outputId": "d7f736e7-776f-4cdc-f027-68db54190692"
      },
      "execution_count": 71,
      "outputs": [
        {
          "output_type": "stream",
          "name": "stdout",
          "text": [
            " To Sherlock Holmes, Irene Adler is always the woman . Holmes never spoke of softer passions, save with a gibe and a sneer . Holmes was the most perfect reasoning and observing machine that the world has seen .\n"
          ]
        }
      ]
    },
    {
      "cell_type": "code",
      "source": [],
      "metadata": {
        "id": "UYVkwPCIKQ8l"
      },
      "execution_count": null,
      "outputs": []
    }
  ]
}